{
 "cells": [
  {
   "cell_type": "markdown",
   "metadata": {},
   "source": [
    "# Welcome to the start of your adventure in Agentic AI"
   ]
  },
  {
   "cell_type": "markdown",
   "metadata": {},
   "source": [
    "<table style=\"margin: 0; text-align: left; width:100%\">\n",
    "    <tr>\n",
    "        <td style=\"width: 150px; height: 150px; vertical-align: middle;\">\n",
    "            <img src=\"../assets/stop.png\" width=\"150\" height=\"150\" style=\"display: block;\" />\n",
    "        </td>\n",
    "        <td>\n",
    "            <h2 style=\"color:#ff7800;\">Are you ready for action??</h2>\n",
    "            <span style=\"color:#ff7800;\">Have you completed all the setup steps in the <a href=\"../setup/\">setup</a> folder?<br/>\n",
    "            Have you read the <a href=\"../README.md\">README</a>? Many common questions are answered here!<br/>\n",
    "            Have you checked out the guides in the <a href=\"../guides/01_intro.ipynb\">guides</a> folder?<br/>\n",
    "            Well in that case, you're ready!!\n",
    "            </span>\n",
    "        </td>\n",
    "    </tr>\n",
    "</table>"
   ]
  },
  {
   "cell_type": "markdown",
   "metadata": {},
   "source": [
    "<table style=\"margin: 0; text-align: left; width:100%\">\n",
    "    <tr>\n",
    "        <td style=\"width: 150px; height: 150px; vertical-align: middle;\">\n",
    "            <img src=\"../assets/tools.png\" width=\"150\" height=\"150\" style=\"display: block;\" />\n",
    "        </td>\n",
    "        <td>\n",
    "            <h2 style=\"color:#00bfff;\">This code is a live resource - keep an eye out for my updates</h2>\n",
    "            <span style=\"color:#00bfff;\">I push updates regularly. As people ask questions or have problems, I add more examples and improve explanations. As a result, the code below might not be identical to the videos, as I've added more steps and better comments. Consider this like an interactive book that accompanies the lectures.<br/><br/>\n",
    "            I try to send emails regularly with important updates related to the course. You can find this in the 'Announcements' section of Udemy in the left sidebar. You can also choose to receive my emails via your Notification Settings in Udemy. I'm respectful of your inbox and always try to add value with my emails!\n",
    "            </span>\n",
    "        </td>\n",
    "    </tr>\n",
    "</table>"
   ]
  },
  {
   "cell_type": "markdown",
   "metadata": {},
   "source": [
    "### And please do remember to contact me if I can help\n",
    "\n",
    "And I love to connect: https://www.linkedin.com/in/eddonner/\n",
    "\n",
    "\n",
    "### New to Notebooks like this one? Head over to the guides folder!\n",
    "\n",
    "Just to check you've already added the Python and Jupyter extensions to Cursor, if not already installed:\n",
    "- Open extensions (View >> extensions)\n",
    "- Search for python, and when the results show, click on the ms-python one, and Install it if not already installed\n",
    "- Search for jupyter, and when the results show, click on the Microsoft one, and Install it if not already installed  \n",
    "Then View >> Explorer to bring back the File Explorer.\n",
    "\n",
    "And then:\n",
    "1. Click where it says \"Select Kernel\" near the top right, and select the option called `.venv (Python 3.12.9)` or similar, which should be the first choice or the most prominent choice. You may need to choose \"Python Environments\" first.\n",
    "2. Click in each \"cell\" below, starting with the cell immediately below this text, and press Shift+Enter to run\n",
    "3. Enjoy!\n",
    "\n",
    "After you click \"Select Kernel\", if there is no option like `.venv (Python 3.12.9)` then please do the following:  \n",
    "1. On Mac: From the Cursor menu, choose Settings >> VS Code Settings (NOTE: be sure to select `VSCode Settings` not `Cursor Settings`);  \n",
    "On Windows PC: From the File menu, choose Preferences >> VS Code Settings(NOTE: be sure to select `VSCode Settings` not `Cursor Settings`)  \n",
    "2. In the Settings search bar, type \"venv\"  \n",
    "3. In the field \"Path to folder with a list of Virtual Environments\" put the path to the project root, like C:\\Users\\username\\projects\\agents (on a Windows PC) or /Users/username/projects/agents (on Mac or Linux).  \n",
    "And then try again.\n",
    "\n",
    "Having problems with missing Python versions in that list? Have you ever used Anaconda before? It might be interferring. Quit Cursor, bring up a new command line, and make sure that your Anaconda environment is deactivated:    \n",
    "`conda deactivate`  \n",
    "And if you still have any problems with conda and python versions, it's possible that you will need to run this too:  \n",
    "`conda config --set auto_activate_base false`  \n",
    "and then from within the Agents directory, you should be able to run `uv python list` and see the Python 3.12 version."
   ]
  },
  {
   "cell_type": "code",
   "execution_count": null,
   "metadata": {},
   "outputs": [],
   "source": [
    "# First let's do an import. If you get an Import Error, double check that your Kernel is correct..\n",
    "\n",
    "from dotenv import load_dotenv\n"
   ]
  },
  {
   "cell_type": "code",
   "execution_count": null,
   "metadata": {},
   "outputs": [
    {
     "data": {
      "text/plain": [
       "True"
      ]
     },
     "execution_count": 2,
     "metadata": {},
     "output_type": "execute_result"
    }
   ],
   "source": [
    "# Next it's time to load the API keys into environment variables\n",
    "# If this returns false, see the next cell!\n",
    "\n",
    "load_dotenv(override=True)\n",
    "#/Users/da/projects/agents/1_foundations/1_lab1.ipynb"
   ]
  },
  {
   "cell_type": "markdown",
   "metadata": {},
   "source": [
    "### Wait, did that just output `False`??\n",
    "\n",
    "If so, the most common reason is that you didn't save your `.env` file after adding the key! Be sure to have saved.\n",
    "\n",
    "Also, make sure the `.env` file is named precisely `.env` and is in the project root directory (`agents`)\n",
    "\n",
    "By the way, your `.env` file should have a stop symbol next to it in Cursor on the left, and that's actually a good thing: that's Cursor saying to you, \"hey, I realize this is a file filled with secret information, and I'm not going to send it to an external AI to suggest changes, because your keys should not be shown to anyone else.\""
   ]
  },
  {
   "cell_type": "markdown",
   "metadata": {},
   "source": [
    "<table style=\"margin: 0; text-align: left; width:100%\">\n",
    "    <tr>\n",
    "        <td style=\"width: 150px; height: 150px; vertical-align: middle;\">\n",
    "            <img src=\"../assets/stop.png\" width=\"150\" height=\"150\" style=\"display: block;\" />\n",
    "        </td>\n",
    "        <td>\n",
    "            <h2 style=\"color:#ff7800;\">Final reminders</h2>\n",
    "            <span style=\"color:#ff7800;\">1. If you're not confident about Environment Variables or Web Endpoints / APIs, please read Topics 3 and 5 in this <a href=\"../guides/04_technical_foundations.ipynb\">technical foundations guide</a>.<br/>\n",
    "            2. If you want to use AIs other than OpenAI, like Gemini, DeepSeek or Ollama (free), please see the first section in this <a href=\"../guides/09_ai_apis_and_ollama.ipynb\">AI APIs guide</a>.<br/>\n",
    "            3. If you ever get a Name Error in Python, you can always fix it immediately; see the last section of this <a href=\"../guides/06_python_foundations.ipynb\">Python Foundations guide</a> and follow both tutorials and exercises.<br/>\n",
    "            </span>\n",
    "        </td>\n",
    "    </tr>\n",
    "</table>"
   ]
  },
  {
   "cell_type": "code",
   "execution_count": null,
   "metadata": {},
   "outputs": [
    {
     "name": "stdout",
     "output_type": "stream",
     "text": [
      "OpenAI API Key exists and begins sk-proj-\n"
     ]
    }
   ],
   "source": [
    "# Check the key - if you're not using OpenAI, check whichever key you're using! Ollama doesn't need a key.\n",
    "\n",
    "import os\n",
    "openai_api_key = os.getenv('OPENAI_API_KEY')\n",
    "\n",
    "if openai_api_key:\n",
    "    print(f\"OpenAI API Key exists and begins {openai_api_key[:8]}\")\n",
    "else:\n",
    "    print(\"OpenAI API Key not set - please head to the troubleshooting guide in the setup folder\")\n",
    "    \n"
   ]
  },
  {
   "cell_type": "code",
   "execution_count": null,
   "metadata": {},
   "outputs": [],
   "source": [
    "# And now - the all important import statement\n",
    "# If you get an import error - head over to troubleshooting in the Setup folder\n",
    "# Even for other LLM providers like Gemini, you still use this OpenAI import - see Guide 9 for why\n",
    "\n",
    "from openai import OpenAI\n"
   ]
  },
  {
   "cell_type": "code",
   "execution_count": 6,
   "metadata": {},
   "outputs": [],
   "source": [
    "# And now we'll create an instance of the OpenAI class\n",
    "# If you're not sure what it means to create an instance of a class - head over to the guides folder (guide 6)!\n",
    "# If you get a NameError - head over to the guides folder (guide 6)to learn about NameErrors - always instantly fixable\n",
    "# If you're not using OpenAI, you just need to slightly modify this - precise instructions are in the AI APIs guide (guide 9)\n",
    "\n",
    "openai_project_client = OpenAI()"
   ]
  },
  {
   "cell_type": "code",
   "execution_count": null,
   "metadata": {},
   "outputs": [],
   "source": [
    "# Create a list of messages in the familiar OpenAI format\n",
    "\n",
    "messages = [{\"role\": \"user\", \"content\": \"What is 2+2?\"}]"
   ]
  },
  {
   "cell_type": "code",
   "execution_count": 18,
   "metadata": {},
   "outputs": [
    {
     "name": "stdout",
     "output_type": "stream",
     "text": [
      "2 + 2 equals 4.\n"
     ]
    }
   ],
   "source": [
    "# And now call it! Any problems, head to the troubleshooting guide\n",
    "# This uses GPT 4.1 nano, the incredibly cheap model\n",
    "# The APIs guide (guide 9) has exact instructions for using even cheaper or free alternatives to OpenAI\n",
    "# If you get a NameError, head to the guides folder (guide 6) to learn about NameErrors - always instantly fixable\n",
    "\n",
    "# response = openai_project_client.chat.completions.create(\n",
    "#     model=\"gpt-4.1-nano\",\n",
    "#     messages=messages\n",
    "# )\n",
    "\n",
    "# print(response.choices[0].message.content)\n",
    "\n",
    "response = openai_project_client.chat.completions.create(\n",
    "    model=\"gpt-4.1-nano\",\n",
    "    messages=messages\n",
    ")\n",
    "print(response.choices[0].message.content)"
   ]
  },
  {
   "cell_type": "code",
   "execution_count": null,
   "metadata": {},
   "outputs": [
    {
     "ename": "NameError",
     "evalue": "name 'ChatCompletion' is not defined",
     "output_type": "error",
     "traceback": [
      "\u001b[31m---------------------------------------------------------------------------\u001b[39m",
      "\u001b[31mNameError\u001b[39m                                 Traceback (most recent call last)",
      "\u001b[36mCell\u001b[39m\u001b[36m \u001b[39m\u001b[32mIn[15]\u001b[39m\u001b[32m, line 1\u001b[39m\n\u001b[32m----> \u001b[39m\u001b[32m1\u001b[39m \u001b[43mChatCompletion\u001b[49m(\u001b[38;5;28mid\u001b[39m=\u001b[33m'\u001b[39m\u001b[33mchatcmpl-C3j3RHJ0OrICJkSycumoVqjxb2w70\u001b[39m\u001b[33m'\u001b[39m, choices=[Choice(finish_reason=\u001b[33m'\u001b[39m\u001b[33mstop\u001b[39m\u001b[33m'\u001b[39m, index=\u001b[32m0\u001b[39m, logprobs=\u001b[38;5;28;01mNone\u001b[39;00m, message=ChatCompletionMessage(content=\u001b[33m'\u001b[39m\u001b[33m2 + 2 equals 4.\u001b[39m\u001b[33m'\u001b[39m, refusal=\u001b[38;5;28;01mNone\u001b[39;00m, role=\u001b[33m'\u001b[39m\u001b[33massistant\u001b[39m\u001b[33m'\u001b[39m, annotations=[], audio=\u001b[38;5;28;01mNone\u001b[39;00m, function_call=\u001b[38;5;28;01mNone\u001b[39;00m, tool_calls=\u001b[38;5;28;01mNone\u001b[39;00m))], created=\u001b[32m1755004209\u001b[39m, model=\u001b[33m'\u001b[39m\u001b[33mgpt-4.1-nano-2025-04-14\u001b[39m\u001b[33m'\u001b[39m, \u001b[38;5;28mobject\u001b[39m=\u001b[33m'\u001b[39m\u001b[33mchat.completion\u001b[39m\u001b[33m'\u001b[39m, service_tier=\u001b[33m'\u001b[39m\u001b[33mdefault\u001b[39m\u001b[33m'\u001b[39m, system_fingerprint=\u001b[33m'\u001b[39m\u001b[33mfp_38343a2f8f\u001b[39m\u001b[33m'\u001b[39m, usage=CompletionUsage(completion_tokens=\u001b[32m8\u001b[39m, prompt_tokens=\u001b[32m14\u001b[39m, total_tokens=\u001b[32m22\u001b[39m, completion_tokens_details=CompletionTokensDetails(accepted_prediction_tokens=\u001b[32m0\u001b[39m, audio_tokens=\u001b[32m0\u001b[39m, reasoning_tokens=\u001b[32m0\u001b[39m, rejected_prediction_tokens=\u001b[32m0\u001b[39m), prompt_tokens_details=PromptTokensDetails(audio_tokens=\u001b[32m0\u001b[39m, cached_tokens=\u001b[32m0\u001b[39m)))\n",
      "\u001b[31mNameError\u001b[39m: name 'ChatCompletion' is not defined"
     ]
    }
   ],
   "source": [
    "# ChatCompletion(\n",
    "#     id='chatcmpl-C3j3RHJ0OrICJkSycumoVqjxb2w70',\n",
    "#      choices=[Choice(\n",
    "#         finish_reason='stop',\n",
    "#          index=0,\n",
    "#           logprobs=None,\n",
    "#            message=ChatCompletionMessage(\n",
    "#             content='2 + 2 equals 4.',\n",
    "#              refusal=None,\n",
    "#               role='assistant',\n",
    "#                annotations=[],\n",
    "#                 audio=None,\n",
    "#                  function_call=None,\n",
    "#                   tool_calls=None))],\n",
    "#                    created=1755004209,\n",
    "#                     model='gpt-4.1-nano-2025-04-14',\n",
    "#                      object='chat.completion',\n",
    "#                       service_tier='default',\n",
    "#                        system_fingerprint='fp_38343a2f8f',\n",
    "#                         usage=CompletionUsage(\n",
    "#                 completion_tokens=8,\n",
    "#                  prompt_tokens=14, total_tokens=22, completion_tokens_details=CompletionTokensDetails(\n",
    "#                     accepted_prediction_tokens=0, audio_tokens=0, reasoning_tokens=0, rejected_prediction_tokens=0), prompt_tokens_details=PromptTokensDetails(\n",
    "#                         audio_tokens=0, cached_tokens=0)))"
   ]
  },
  {
   "cell_type": "code",
   "execution_count": null,
   "metadata": {},
   "outputs": [],
   "source": [
    "# And now - let's ask for a question:\n",
    "\n",
    "question = \"Please propose a hard, challenging question to assess someone's IQ. Respond only with the question.\"\n",
    "messages = [{\"role\": \"user\", \"content\": question}]\n"
   ]
  },
  {
   "cell_type": "code",
   "execution_count": 21,
   "metadata": {},
   "outputs": [
    {
     "name": "stdout",
     "output_type": "stream",
     "text": [
      "A bat and a ball cost $1.10 in total. The bat costs $1.00 more than the ball. How much does the ball cost?\n"
     ]
    }
   ],
   "source": [
    "# ask it - this uses GPT 4.1 mini, still cheap but more powerful than nano\n",
    "\n",
    "# response = openai.chat.completions.create(\n",
    "#     model=\"gpt-4.1-mini\",\n",
    "#     messages=messages\n",
    "# )\n",
    "\n",
    "# question = response.choices[0].message.content\n",
    "\n",
    "# print(question)\n",
    "\n",
    "response = openai_project_client.chat.completions.create(\n",
    "    model=\"gpt-4.1-mini\",\n",
    "    messages=messages\n",
    ")\n",
    "\n",
    "print(response.choices[0].message.content)\n"
   ]
  },
  {
   "cell_type": "code",
   "execution_count": null,
   "metadata": {},
   "outputs": [],
   "source": [
    "# form a new messages list\n",
    "messages = [{\"role\": \"user\", \"content\": question}]"
   ]
  },
  {
   "cell_type": "code",
   "execution_count": 23,
   "metadata": {},
   "outputs": [
    {
     "name": "stdout",
     "output_type": "stream",
     "text": [
      "You have 12 identical-looking balls, but one ball is either heavier or lighter than the rest. Using a balance scale, what is the minimum number of weighings needed to guarantee identifying the odd ball and whether it is heavier or lighter? Explain the strategy.\n"
     ]
    }
   ],
   "source": [
    "# Ask it again\n",
    "\n",
    "# response = openai.chat.completions.create(\n",
    "#     model=\"gpt-4.1-mini\",\n",
    "#     messages=messages\n",
    "# )\n",
    "\n",
    "# answer = response.choices[0].message.content\n",
    "# print(answer)\n",
    "\n",
    "response = openai_project_client.chat.completions.create(\n",
    "    model=\"gpt-4.1-mini\",\n",
    "    messages=messages\n",
    ")\n",
    "\n",
    "answer = response.choices[0].message.content\n",
    "print(answer)\n"
   ]
  },
  {
   "cell_type": "code",
   "execution_count": null,
   "metadata": {},
   "outputs": [
    {
     "data": {
      "text/markdown": [
       "You have 12 identical-looking balls, but one ball is either heavier or lighter than the rest. Using a balance scale, what is the minimum number of weighings needed to guarantee identifying the odd ball and whether it is heavier or lighter? Explain the strategy."
      ],
      "text/plain": [
       "<IPython.core.display.Markdown object>"
      ]
     },
     "metadata": {},
     "output_type": "display_data"
    }
   ],
   "source": [
    "from IPython.display import Markdown, display\n",
    "\n",
    "display(Markdown(answer))"
   ]
  },
  {
   "cell_type": "markdown",
   "metadata": {},
   "source": [
    "# Congratulations!\n",
    "\n",
    "That was a small, simple step in the direction of Agentic AI, with your new environment!\n",
    "\n",
    "Next time things get more interesting..."
   ]
  },
  {
   "cell_type": "markdown",
   "metadata": {},
   "source": [
    "<table style=\"margin: 0; text-align: left; width:100%\">\n",
    "    <tr>\n",
    "        <td style=\"width: 150px; height: 150px; vertical-align: middle;\">\n",
    "            <img src=\"../assets/exercise.png\" width=\"150\" height=\"150\" style=\"display: block;\" />\n",
    "        </td>\n",
    "        <td>\n",
    "            <h2 style=\"color:#ff7800;\">Exercise</h2>\n",
    "            <span style=\"color:#ff7800;\">Now try this commercial application:<br/>\n",
    "            First ask the LLM to pick a business area that might be worth exploring for an Agentic AI opportunity.<br/>\n",
    "            Then ask the LLM to present a pain-point in that industry - something challenging that might be ripe for an Agentic solution.<br/>\n",
    "            Finally have 3 third LLM call propose the Agentic AI solution. <br/>\n",
    "            We will cover this at up-coming labs, so don't worry if you're unsure.. just give it a try!\n",
    "            </span>\n",
    "        </td>\n",
    "    </tr>\n",
    "</table>"
   ]
  },
  {
   "cell_type": "code",
   "execution_count": 27,
   "metadata": {},
   "outputs": [
    {
     "data": {
      "text/markdown": [
       "Hello! One promising business area for exploring Agentic AI opportunities is **Supply Chain and Logistics Optimization**.\n",
       "\n",
       "### Why Supply Chain and Logistics?\n",
       "\n",
       "- **Complex decision-making:** Supply chains involve numerous variables—inventory levels, demand forecasting, route planning, vendor management—that require dynamic, real-time decisions.\n",
       "- **High impact:** Efficient supply chains reduce costs, improve delivery times, and enhance customer satisfaction.\n",
       "- **Data-rich environment:** Availability of large datasets from IoT sensors, transportation systems, and ERP software provides a solid foundation for AI-driven insights.\n",
       "- **Automation potential:** Agentic AI can autonomously manage procurement, reroute shipments in response to disruptions, and negotiate with suppliers or carriers.\n",
       "- **Resilience building:** In an era of global uncertainty, Agentic AI can anticipate risks and propose contingency plans proactively.\n",
       "\n",
       "### Potential Agentic AI roles in this area:\n",
       "\n",
       "- Autonomous inventory managers adjusting stock levels based on demand signals.\n",
       "- Intelligent fleet managers optimizing routes in real time to reduce fuel costs and delays.\n",
       "- Supplier relationship agents negotiating contracts and managing performance metrics.\n",
       "- Risk assessment agents forecasting potential supply chain disruptions and triggering mitigation actions.\n",
       "\n",
       "Would you like me to elaborate on this area or explore another sector?"
      ],
      "text/plain": [
       "<IPython.core.display.Markdown object>"
      ]
     },
     "metadata": {},
     "output_type": "display_data"
    }
   ],
   "source": [
    "# First create the messages:\n",
    "\n",
    "# messages = [{\"role\": \"user\", \"content\": \"Something here\"}]\n",
    "\n",
    "# Then make the first call:\n",
    "\n",
    "# response =\n",
    "\n",
    "# Then read the business idea:\n",
    "\n",
    "# business_idea = response.\n",
    "\n",
    "# And repeat! In the next message, include the business idea within the message\n",
    "\n",
    "messages = [{\"role\": \"user\", \"content\": \"Hi there! Please pick a business area that might be worth exploring for Agentic AI opportunity.\"}]\n",
    "\n",
    "response = openai_project_client.chat.completions.create(\n",
    "    model=\"gpt-4.1-mini\",\n",
    "    messages = messages\n",
    ")\n",
    "# print(response)\n",
    "\n",
    "business_idea = response.choices[0].message.content\n",
    "\n",
    "# print(business_idea)\n",
    "display(Markdown(business_idea))"
   ]
  },
  {
   "cell_type": "markdown",
   "metadata": {},
   "source": []
  },
  {
   "cell_type": "code",
   "execution_count": 28,
   "metadata": {},
   "outputs": [
    {
     "data": {
      "text/markdown": [
       "A significant pain point in the Supply Chain Logistics Optimization industry is **real-time, end-to-end visibility and dynamic decision-making across complex, multi-modal networks**. \n",
       "\n",
       "### Challenge:\n",
       "Modern supply chains are highly complex, involving numerous stakeholders, transportation modes (road, rail, sea, air), and constantly changing conditions such as weather disruptions, traffic congestion, demand fluctuations, and supplier delays. Traditional optimization systems often rely on static data or delayed information, limiting their ability to adapt quickly to real-time events. This results in suboptimal routing, increased costs, delayed deliveries, and poor customer satisfaction.\n",
       "\n",
       "### Why This Is Ripe for an Agentic Solution:\n",
       "Agentic systems—autonomous agents capable of perceiving environments, making decisions, and acting without constant human intervention—can revolutionize this space by:\n",
       "\n",
       "- **Continuously monitoring data streams** from IoT sensors, GPS trackers, weather APIs, and market conditions to maintain an up-to-date view of the entire supply chain.\n",
       "- **Proactively identifying potential disruptions** before they escalate (e.g., predicting port congestion or transportation bottlenecks).\n",
       "- **Dynamically re-optimizing routes, inventory allocations, and scheduling** on-the-fly using AI-powered decision-making.\n",
       "- **Negotiating and coordinating actions** across different actors (carriers, warehouses, suppliers) autonomously to ensure smooth flow and minimize delays.\n",
       "- **Learning from past disruptions** to improve future responses and build resilience.\n",
       "\n",
       "Such an agentic approach could significantly enhance agility, reduce costs, and improve reliability in supply chain logistics—addressing a critical bottleneck in today’s global commerce environment."
      ],
      "text/plain": [
       "<IPython.core.display.Markdown object>"
      ]
     },
     "metadata": {},
     "output_type": "display_data"
    }
   ],
   "source": [
    "# 1. Create the message\n",
    "messages = [{\"role\": \"user\", \"content\": \"Please present a pain point in the Supply Chain Logistics Optimization industry - something challenging that might be ripe for an Agentic solution.\"}]\n",
    "\n",
    "# 2. Make the first call\n",
    "\n",
    "response = openai_project_client.chat.completions.create(\n",
    "    model=\"gpt-4.1-mini\",\n",
    "    messages = messages\n",
    ")\n",
    "\n",
    "# 3. Then read the response\n",
    "pain_point = response.choices[0].message.content\n",
    "\n",
    "display(Markdown(pain_point))"
   ]
  },
  {
   "cell_type": "code",
   "execution_count": 30,
   "metadata": {},
   "outputs": [
    {
     "data": {
      "text/markdown": [
       "Certainly! Below is a detailed proposal for an **Agentic AI solution** tailored to tackle the complex challenges of modern supply chains, leveraging autonomous agents to optimize real-time decision-making and coordination.\n",
       "\n",
       "---\n",
       "\n",
       "## Agentic AI Solution for Complex Supply Chain Optimization\n",
       "\n",
       "### 1. **System Architecture Overview**\n",
       "\n",
       "- **Multi-Agent Framework:**  \n",
       "  Deploy a network of specialized autonomous agents, each responsible for different facets of the supply chain ecosystem:\n",
       "  - **Monitoring Agents:** Continuously ingest and process real-time data streams (IoT sensors, GPS, weather APIs, market signals).\n",
       "  - **Predictive Agents:** Analyze incoming data to forecast disruptions such as traffic congestion, port delays, weather impacts, and demand spikes.\n",
       "  - **Optimization Agents:** Run dynamic, AI-driven route, schedule, and inventory optimization algorithms.\n",
       "  - **Negotiation Agents:** Autonomously communicate and negotiate with stakeholders (carriers, warehouses, suppliers) to coordinate actions.\n",
       "  - **Learning Agents:** Continuously learn from historical and real-time events to refine predictive and optimization capabilities.\n",
       "  \n",
       "- **Central Coordination Hub:**  \n",
       "  While agents operate autonomously, a central coordination layer ensures alignment of objectives, conflict resolution, and compliance with overarching business rules.\n",
       "\n",
       "---\n",
       "\n",
       "### 2. **Key Functional Components**\n",
       "\n",
       "#### a. **Real-Time Data Assimilation**\n",
       "- Integrate disparate data sources:\n",
       "  - IoT sensors on vehicles, warehouses, containers\n",
       "  - GPS and transportation management systems\n",
       "  - Weather and environmental APIs\n",
       "  - Supplier and market demand data feeds\n",
       "- Use streaming data platforms (e.g., Apache Kafka) to provide agents with low-latency updates.\n",
       "\n",
       "#### b. **Proactive Disruption Prediction**\n",
       "- Use advanced AI models (e.g., LSTM, transformers) to forecast operational disruptions based on detected patterns.\n",
       "- Example: Predict port congestion 12 hours in advance by analyzing arrival rates, weather, labor strikes.\n",
       "- Provide alerts and recommended mitigation strategies to Optimization and Negotiation Agents.\n",
       "\n",
       "#### c. **Dynamic Re-optimization**\n",
       "- Continuously re-run optimization models to adjust routes, delivery schedules, and inventory levels as new data arrives.\n",
       "- Models incorporate constraints such as:\n",
       "  - Delivery time windows\n",
       "  - Transportation mode switching costs\n",
       "  - Fuel and labor costs\n",
       "  - Storage capacity limits\n",
       "- Use reinforcement learning agents that adapt strategies over time based on historical success.\n",
       "\n",
       "#### d. **Autonomous Negotiation and Coordination**\n",
       "- Agents represent different stakeholders with defined objectives and constraints.\n",
       "- Through multi-agent negotiation protocols (e.g., contract-net protocol, auction-based negotiation), agents autonomously:\n",
       "  - Allocate cargo loads to carriers\n",
       "  - Schedule warehouse operations\n",
       "  - Reassign inventory between locations\n",
       "- Ensure robustness by enabling fallback negotiation strategies.\n",
       "\n",
       "#### e. **Continuous Learning and Resilience Building**\n",
       "- Use anomaly detection to identify events deviating from expected patterns.\n",
       "- Feedback loops allow Learning Agents to:\n",
       "  - Update predictive models with new event data\n",
       "  - Refine optimization heuristics\n",
       "- Periodic retraining ensures models stay current amid changing global conditions.\n",
       "\n",
       "---\n",
       "\n",
       "### 3. **Expected Benefits**\n",
       "\n",
       "- **Agility:** Real-time adaptation to unpredictable disruptions reduces delays.\n",
       "- **Cost Efficiency:** Optimized routing and inventory reduce fuel, labor, and holding costs.\n",
       "- **Improved Reliability:** Proactive risk management and coordination increase on-time delivery rates.\n",
       "- **Scalability:** Modular agent design fits supply chains of varying size and complexity.\n",
       "- **Reduced Human Burden:** Autonomous decision-making reduces need for constant human intervention, allowing teams to focus on strategic planning.\n",
       "\n",
       "---\n",
       "\n",
       "### 4. **Implementation Considerations**\n",
       "\n",
       "- **Integration:** Build APIs enabling seamless data exchange with existing ERP, TMS, and WMS platforms.\n",
       "- **Security:** Ensure data integrity and privacy through encryption, authentication, and access control within agent communications.\n",
       "- **Explainability:** Provide human-interpretable explanations for agent decisions to maintain trust.\n",
       "- **Pilot Phase:** Start with a controlled subset of the supply chain (e.g., a single region or transportation mode) before full deployment.\n",
       "\n",
       "---\n",
       "\n",
       "### 5. **Example Scenario Walkthrough**\n",
       "\n",
       "1. **Monitoring Agent** detects worsening weather forecast near a major port.\n",
       "2. **Predictive Agent** forecasts port congestion likely to delay arrivals by 6 hours.\n",
       "3. **Optimization Agent** recalculates routes, suggesting rerouting some shipments via rail to meet deadlines.\n",
       "4. **Negotiation Agent** autonomously contacts carriers and warehouses to rearrange schedules and resource allocation.\n",
       "5. **Learning Agent** records outcome for model refinement.\n",
       "6. Customers receive updated, accurate delivery ETAs, increasing satisfaction.\n",
       "\n",
       "---\n",
       "\n",
       "## Summary\n",
       "\n",
       "Agentic AI, through a network of autonomous, collaborative agents, can transform modern supply chains by enabling continuous, proactive, and dynamic decision-making. This approach addresses complexity and volatility head-on, delivering operational resilience and competitive advantage in global logistics.\n",
       "\n",
       "---\n",
       "\n",
       "If you’d like, I can dive deeper into technical architecture diagrams, specific AI algorithms, or propose a phased rollout plan."
      ],
      "text/plain": [
       "<IPython.core.display.Markdown object>"
      ]
     },
     "metadata": {},
     "output_type": "display_data"
    }
   ],
   "source": [
    "# 1. Create the message\n",
    "\n",
    "messages = [{\"role\": \"user\", \"content\": \"\"\"Please propose the Agentic AI solution to resolve the pain points/ challenges you have mentioned below: Challenge:\n",
    "Modern supply chains are highly complex, involving numerous stakeholders, transportation modes (road, rail, sea, air), and constantly changing conditions such as weather disruptions, traffic congestion, demand fluctuations, and supplier delays. Traditional optimization systems often rely on static data or delayed information, limiting their ability to adapt quickly to real-time events. This results in suboptimal routing, increased costs, delayed deliveries, and poor customer satisfaction.\n",
    "\n",
    "Why This Is Ripe for an Agentic Solution:\n",
    "Agentic systems—autonomous agents capable of perceiving environments, making decisions, and acting without constant human intervention—can revolutionize this space by:\n",
    "\n",
    "Continuously monitoring data streams from IoT sensors, GPS trackers, weather APIs, and market conditions to maintain an up-to-date view of the entire supply chain.\n",
    "Proactively identifying potential disruptions before they escalate (e.g., predicting port congestion or transportation bottlenecks).\n",
    "Dynamically re-optimizing routes, inventory allocations, and scheduling on-the-fly using AI-powered decision-making.\n",
    "Negotiating and coordinating actions across different actors (carriers, warehouses, suppliers) autonomously to ensure smooth flow and minimize delays.\n",
    "Learning from past disruptions to improve future responses and build resilience.\n",
    "Such an agentic approach could significantly enhance agility, reduce costs, and improve reliability in supply chain logistics—addressing a critical bottleneck in today’s global commerce environment.\"\"\"}]\n",
    "\n",
    "# 2. Make the first call\n",
    "\n",
    "response = openai_project_client.chat.completions.create(\n",
    "    model=\"gpt-4.1-mini\",\n",
    "    messages = messages\n",
    ")\n",
    "# 3. Then read the response\n",
    "\n",
    "agentic_AI_solution = response.choices[0].message.content\n",
    "\n",
    "display(Markdown(agentic_AI_solution))"
   ]
  },
  {
   "cell_type": "code",
   "execution_count": null,
   "metadata": {},
   "outputs": [],
   "source": []
  }
 ],
 "metadata": {
  "kernelspec": {
   "display_name": ".venv",
   "language": "python",
   "name": "python3"
  },
  "language_info": {
   "codemirror_mode": {
    "name": "ipython",
    "version": 3
   },
   "file_extension": ".py",
   "mimetype": "text/x-python",
   "name": "python",
   "nbconvert_exporter": "python",
   "pygments_lexer": "ipython3",
   "version": "3.12.6"
  }
 },
 "nbformat": 4,
 "nbformat_minor": 2
}
